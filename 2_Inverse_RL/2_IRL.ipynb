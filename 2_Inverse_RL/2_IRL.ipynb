{
 "cells": [
  {
   "cell_type": "markdown",
   "id": "aaa715f3",
   "metadata": {},
   "source": [
    "# Inverse Reinforcement Learning"
   ]
  },
  {
   "cell_type": "markdown",
   "id": "e55c696f",
   "metadata": {},
   "source": []
  }
 ],
 "metadata": {
  "language_info": {
   "name": "python"
  }
 },
 "nbformat": 4,
 "nbformat_minor": 5
}
